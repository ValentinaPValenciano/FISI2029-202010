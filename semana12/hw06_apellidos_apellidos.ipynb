{
 "cells": [
  {
   "cell_type": "markdown",
   "metadata": {},
   "source": [
    "# HW 06 Fourier\n",
    "\n",
    "* Entregue sólamente el notebook marcado como \"hw06_apellidos_apellidos.ipynb\".\n",
    "* Pueden trabajar hasta dos personas por grupo.\n",
    "* Resuelva cada ítem en una celda distinta.\n",
    "\n",
    "# Ejercicio 1 (50 pts)\n",
    "\n",
    "En la página https://www.projectrhea.org/rhea/index.php/Fourier_analysis_in_Music se tiene el espectro de frecuencias de varios instrumentos musicales: flauta, oboe, clarinete, corno, guitarra y piano.\n",
    "\n",
    "## 1.a  (25 pts)\n",
    "Escoja dos instrumentos. Para cada uno genere una señal \"x\" durante un intervalo de 5 segundos, con $f0 = 440 Hz$ y los coeficientes de amplitud iguales a los dados en las gráficas de https://www.projectrhea.org/rhea/index.php/Fourier_analysis_in_Music \n",
    "Grafique para t entre 0 y 0.006 segundos\n",
    "\n",
    "## 1.b (25 pts)\n",
    "Genere para cada instrumento los archivos de audio, llámelos \"1_instrumento.wav\", por ejemplo \"1_chelo.wav\"\n",
    "\n",
    "# Ejercicio 2 (50 pts)\n",
    "\n",
    "## 2.a (25 pts)\n",
    "Genere el archivo de audio y grafique el espectro de potencias para una onda diente de sierra con \n",
    "frecuencia 440 Hz. Guárdelo como \"2_diente_de_sierra.wav\"\n",
    "\n",
    "## 2.b (25 pts)\n",
    "Genere el archivo de audio y grafique el espectro de potencias para una onda cuadrada con frecuencia 440 Hz. Guárdelo como \"2_onda_cuadrada.wav\"\n",
    "\n"
   ]
  },
  {
   "cell_type": "markdown",
   "metadata": {},
   "source": [
    "# Ejercicio 3 (100 pts)\n",
    "\n",
    "## 3.a (10 pts)\n",
    "Cargue el archivo \"severla_000.wav\" como un array con la rata de toma de datos (sampling rate o tasa de muestreo) apropiada. (ver documentación de scipy.wavfile) \n",
    "\n",
    "## 3.b (10 pts)\n",
    "Calcule la duración del archivo teniendo en cuenta la longitud del array de datos y la tasa de muestreo\n",
    "\n",
    "## 3.b (20 pts)\n",
    "Haga tres gráficas de amplitud de señal contra tiempo:\n",
    "la primera para los primeros 2 ms, la segunda para 30 ms y la tercera para 500 ms \n",
    "\n",
    "## 3.c (25 pts) \n",
    "Calcule la transformada rápida de Fourier (FFT) de la señal.\n",
    "Grafique el espectro de potencias (abs(c_n)) en escala lineal y en escala logarítmica\n",
    "\n",
    "## 3.d (30 pts)\n",
    "Haga un filtro pasabajos para eliminar el pitido molesto.\n",
    "Haga la transformada inversa para volver al dominio temporal.\n",
    "Amplifique la señal resultante hasta que pueda ser escuchada la voz.\n",
    "Guarde el archivo como \"3_senal_limpia.wav\"\n",
    "\n",
    "## 3.e (5 pts)\n",
    "Invierta el array de la señal limpia, pues como en la canción \"Severlá\" de Otto y los Sarcófagos del Ritmo, el mensaje está al revés. Guarde el archivo como \"mensaje decodificado.wav\" y escriba cuál es el mensaje.\n",
    "https://www.youtube.com/watch?v=R2jK-MuW2U8\n"
   ]
  },
  {
   "cell_type": "code",
   "execution_count": 1,
   "metadata": {},
   "outputs": [],
   "source": [
    "import numpy as np\n",
    "import matplotlib.pyplot as plt\n",
    "\n",
    "from scipy.io.wavfile import write, read\n",
    "from numpy.fft import fft, ifft, fftfreq"
   ]
  }
 ],
 "metadata": {
  "kernelspec": {
   "display_name": "Python 3",
   "language": "python",
   "name": "python3"
  },
  "language_info": {
   "codemirror_mode": {
    "name": "ipython",
    "version": 3
   },
   "file_extension": ".py",
   "mimetype": "text/x-python",
   "name": "python",
   "nbconvert_exporter": "python",
   "pygments_lexer": "ipython3",
   "version": "3.7.7"
  }
 },
 "nbformat": 4,
 "nbformat_minor": 4
}
