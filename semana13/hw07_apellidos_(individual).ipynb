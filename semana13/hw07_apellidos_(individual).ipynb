{
 "cells": [
  {
   "cell_type": "markdown",
   "metadata": {},
   "source": [
    "# Tarea de entrega Individual"
   ]
  },
  {
   "cell_type": "markdown",
   "metadata": {},
   "source": [
    "1. (50 pts)\n",
    "\n",
    "Cree un repositorio en GitHub llamado \"cosas_de_github\".\n",
    "\n",
    "Edite el archivo README.md para que de una breve descripción del repositorio Y el la persona que lo creó\n",
    "\n",
    "2. (50 pts) \n",
    "\n",
    "Dele permisos a un compañero de clase para que pueda colaborar con su repositorio.\n",
    "Su compañero debe editar el archivo README.md e incluirse en él.\n",
    "\n",
    "3. Entregue el enlace al repositorio con las modificaciones del colaborador.\n"
   ]
  },
  {
   "cell_type": "markdown",
   "metadata": {},
   "source": [
    "https://github.com/flgomezc/cosas_de_github/\n",
    "\n",
    "https://github.com/ nombre de usuario / nombre de repositorio/"
   ]
  },
  {
   "cell_type": "code",
   "execution_count": null,
   "metadata": {},
   "outputs": [],
   "source": []
  }
 ],
 "metadata": {
  "kernelspec": {
   "display_name": "Python 3",
   "language": "python",
   "name": "python3"
  },
  "language_info": {
   "codemirror_mode": {
    "name": "ipython",
    "version": 3
   },
   "file_extension": ".py",
   "mimetype": "text/x-python",
   "name": "python",
   "nbconvert_exporter": "python",
   "pygments_lexer": "ipython3",
   "version": "3.7.7"
  }
 },
 "nbformat": 4,
 "nbformat_minor": 4
}
