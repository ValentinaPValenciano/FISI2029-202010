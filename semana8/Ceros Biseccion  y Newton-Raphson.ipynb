{
 "cells": [
  {
   "cell_type": "code",
   "execution_count": 1,
   "metadata": {},
   "outputs": [],
   "source": [
    "import numpy as np\n",
    "import matplotlib.pyplot as plt\n",
    "from scipy import special as spes"
   ]
  },
  {
   "cell_type": "markdown",
   "metadata": {},
   "source": [
    "# Hallando ceros de funciones.\n",
    "\n",
    "Tenemos una función $f(x)$ contínua y bien comportada, al menos en la primera derivada, y necesitamos calcular sus raíces.\n",
    "$$ f(x_i) = 0 $$\n",
    "\n",
    "Primero vamos a graficar la función para saber en qué región vamos a buscar los ceros. Supongamos que nuestra función de prueba es una bonita parábola:\n",
    "\n",
    "$$ f(x) = -x^2 + 5x -2 $$\n",
    "\n",
    "y supongamos que no sabemos que sus ceros están en:\n",
    "\n",
    "$$ x_i = \\frac{-b \\pm \\sqrt{b^2 - 4ac}}{2a} $$"
   ]
  },
  {
   "cell_type": "code",
   "execution_count": 2,
   "metadata": {
    "scrolled": true
   },
   "outputs": [
    {
     "data": {
      "text/plain": [
       "<matplotlib.collections.PathCollection at 0x7f99ffbbea90>"
      ]
     },
     "execution_count": 2,
     "metadata": {},
     "output_type": "execute_result"
    },
    {
     "data": {
      "image/png": "[encoded data removed]",
      "text/plain": [
       "<Figure size 432x288 with 1 Axes>"
      ]
     },
     "metadata": {
      "needs_background": "light"
     },
     "output_type": "display_data"
    }
   ],
   "source": [
    "# Función de ejemplo.\n",
    "def f(x):\n",
    "    return -x**2 + 5*x -2\n",
    "# Las raíces analíticas que queremos encontrar\n",
    "x_1 = (5 + (17)**0.5) / 2.\n",
    "x_2 = (5 - (17)**0.5) / 2.\n",
    "\n",
    "\n",
    "x = np.linspace(0, 5, 100)\n",
    "y = f(x)\n",
    "\n",
    "plt.plot(x,y)\n",
    "\n",
    "plt.grid(); plt.axhline(y=0, c='k')\n",
    "plt.xlabel(r'$x$', size=20); plt.ylabel(r'$f(x)$', size=20)\n",
    "\n",
    "# Grafica las raíces.\n",
    "plt.scatter(x_1, 0, s=60, c='r'); plt.scatter(x_2, 0, s=60, c='r')"
   ]
  },
  {
   "cell_type": "markdown",
   "metadata": {},
   "source": [
    "La primera raíz está en el intervalo $x_1 \\in [0,1]$ y la segunda raíz $x_2 \\in [4,5]$"
   ]
  },
  {
   "cell_type": "markdown",
   "metadata": {},
   "source": [
    "## Método 1: Fuerza Bruta\n",
    "\n",
    "Vamos a buscar la primera raíz $x_1$ entre `x0 = 0` y `xf=1`. Podemos avanzar en pasos $\\delta x = 0.02$ desde `x0` y ver en qué momento cambia el signo de la función:"
   ]
  },
  {
   "cell_type": "code",
   "execution_count": 3,
   "metadata": {
    "scrolled": false
   },
   "outputs": [
    {
     "name": "stdout",
     "output_type": "stream",
     "text": [
      "No hay cero en :C [0.00, 0.05 ]\n",
      "No hay cero en :C [0.05, 0.10 ]\n",
      "No hay cero en :C [0.10, 0.15 ]\n",
      "No hay cero en :C [0.15, 0.20 ]\n",
      "No hay cero en :C [0.20, 0.25 ]\n",
      "No hay cero en :C [0.25, 0.30 ]\n",
      "No hay cero en :C [0.30, 0.35 ]\n",
      "No hay cero en :C [0.35, 0.40 ]\n",
      "Hay un cero en este intervalo! ^__^  [0.40, 0.45 ]\n",
      "No hay cero en :C [0.45, 0.50 ]\n",
      "No hay cero en :C [0.50, 0.55 ]\n",
      "No hay cero en :C [0.55, 0.60 ]\n",
      "No hay cero en :C [0.60, 0.65 ]\n",
      "No hay cero en :C [0.65, 0.70 ]\n",
      "No hay cero en :C [0.70, 0.75 ]\n",
      "No hay cero en :C [0.75, 0.80 ]\n",
      "No hay cero en :C [0.80, 0.85 ]\n",
      "No hay cero en :C [0.85, 0.90 ]\n",
      "No hay cero en :C [0.90, 0.95 ]\n",
      "No hay cero en :C [0.95, 1.00 ]\n"
     ]
    }
   ],
   "source": [
    "x      = 0\n",
    "xf     = 1.\n",
    "deltax = 0.05\n",
    "\n",
    "while(x <= xf):\n",
    "    if( f(x) * f(x+deltax) > 0):\n",
    "        print(\"No hay cero en :C [{:0.2f}, {:0.2f} ]\".format(x, x+deltax) )\n",
    "    else:\n",
    "        print(\"Hay un cero en este intervalo! ^__^  [{:0.2f}, {:0.2f} ]\".format(x, x+deltax))\n",
    "    x += deltax"
   ]
  },
  {
   "cell_type": "markdown",
   "metadata": {},
   "source": [
    "Si queremos buscar un cero con precisión  $\\Delta x = 1/N$, nos va a tomar del orden de N encontrar la raíz. Ejemplo con N=1000 pasos"
   ]
  },
  {
   "cell_type": "code",
   "execution_count": 4,
   "metadata": {},
   "outputs": [
    {
     "name": "stdout",
     "output_type": "stream",
     "text": [
      "deltax =  0.001\n",
      "Hay un cero en este intervalo! ^__^  [0.43800000, 0.43900000 ]\n",
      "Número de pasos: 438\n"
     ]
    }
   ],
   "source": [
    "x      = 0.\n",
    "xf     = 1.\n",
    "N = 10**3\n",
    "deltax = 1.0 / N\n",
    "print(\"deltax = \", deltax)\n",
    "\n",
    "counter = 0\n",
    "while(x <= xf):\n",
    "    if( f(x) * f(x+deltax) > 0):\n",
    "        x       += deltax\n",
    "        counter += 1\n",
    "    else:\n",
    "        print(\"Hay un cero en este intervalo! ^__^  [{:0.8f}, {:0.8f} ]\".format(x, x+deltax))\n",
    "        print(\"Número de pasos: {:01d}\".format(counter))\n",
    "        break;"
   ]
  },
  {
   "cell_type": "markdown",
   "metadata": {},
   "source": [
    "Ejemplot con N=1'000.000 "
   ]
  },
  {
   "cell_type": "code",
   "execution_count": 5,
   "metadata": {},
   "outputs": [
    {
     "name": "stdout",
     "output_type": "stream",
     "text": [
      "deltax =  1e-06\n",
      "Hay un cero en este intervalo! ^__^  [0.43844700, 0.43844800 ]\n",
      "Número de pasos: 438447\n"
     ]
    }
   ],
   "source": [
    "x      = 0.\n",
    "xf     = 1.\n",
    "N = 10**6\n",
    "deltax = 1.0 / N\n",
    "print(\"deltax = \", deltax)\n",
    "\n",
    "counter = 0\n",
    "while(x <= xf):\n",
    "    if( f(x) * f(x+deltax) > 0):\n",
    "        x       += deltax\n",
    "        counter += 1\n",
    "    else:\n",
    "        print(\"Hay un cero en este intervalo! ^__^  [{:0.8f}, {:0.8f} ]\".format(x, x+deltax))\n",
    "        print(\"Número de pasos: {:04d}\".format(counter))\n",
    "        break;"
   ]
  },
  {
   "cell_type": "markdown",
   "metadata": {},
   "source": [
    "Si evaluamos f(x) en los extremos del intervalo tenemos:"
   ]
  },
  {
   "cell_type": "code",
   "execution_count": 6,
   "metadata": {},
   "outputs": [
    {
     "name": "stdout",
     "output_type": "stream",
     "text": [
      "x= 0.4384470, f(x) = -7.718e-07\n",
      "x= 0.4384480, f(x) = 3.351e-06\n"
     ]
    }
   ],
   "source": [
    "print(\"x= {:.7f}, f(x) = {:.3e}\".format(x, f(x)))\n",
    "print(\"x= {:.7f}, f(x) = {:.3e}\".format(x+deltax, f(x+deltax)))"
   ]
  },
  {
   "cell_type": "markdown",
   "metadata": {},
   "source": [
    "## Método 2: Ceros por Bisección\n",
    "\n",
    "Vamos a buscar ceros de un modo más eficiente. Vamos a dividir el intervalo por la mitad y revisar en cuál de los dos intervalos está el cero. Repetimos esta división y búsqueda hasta llegar a la precisión deseada.\n",
    "\n",
    "Supongamos que queremos encontrar los ceros con una precisión $\\epsilon$ tal que:\n",
    "$$ \\left| f(x) \\right| < \\epsilon$$\n",
    "\n",
    "Empezamos de nuevo en el intervalo $[a,c]$"
   ]
  },
  {
   "cell_type": "code",
   "execution_count": 7,
   "metadata": {},
   "outputs": [
    {
     "data": {
      "text/plain": [
       "Text(1, -0.2, 'c')"
      ]
     },
     "execution_count": 7,
     "metadata": {},
     "output_type": "execute_result"
    },
    {
     "data": {
      "image/png": "[encoded data removed]",
      "text/plain": [
       "<Figure size 432x288 with 1 Axes>"
      ]
     },
     "metadata": {
      "needs_background": "light"
     },
     "output_type": "display_data"
    }
   ],
   "source": [
    "a = 0\n",
    "c = 1\n",
    "\n",
    "x = np.linspace(a, c, 100)\n",
    "y = f(x)\n",
    "\n",
    "plt.xlim(-0.1, 1.1); plt.ylim(f(a),f(c));\n",
    "#plt.xlim(a-0.1*(c-a),c+0.1*(c-a)); plt.ylim(f(a),f(c))\n",
    "plt.plot(x,y); plt.grid(); plt.axhline(y=0, c=\"k\"); plt.xlabel(r'$x$', size=20); plt.ylabel(r'$f(x)$', size=20);\n",
    "\n",
    "plt.text(a,-0.2, \"a\", fontsize=20)\n",
    "plt.text(c,-0.2, \"c\", fontsize=20)"
   ]
  },
  {
   "cell_type": "markdown",
   "metadata": {},
   "source": [
    "Primero calculamos $b$ para definir los dos sub intervalos."
   ]
  },
  {
   "cell_type": "code",
   "execution_count": 8,
   "metadata": {},
   "outputs": [
    {
     "data": {
      "text/plain": [
       "Text(1, -0.2, 'c')"
      ]
     },
     "execution_count": 8,
     "metadata": {},
     "output_type": "execute_result"
    },
    {
     "data": {
      "image/png": "[encoded data removed]",
      "text/plain": [
       "<Figure size 432x288 with 1 Axes>"
      ]
     },
     "metadata": {
      "needs_background": "light"
     },
     "output_type": "display_data"
    }
   ],
   "source": [
    "b = (a+c)/2.0\n",
    "\n",
    "x = np.linspace(a, c, 100)\n",
    "y = f(x)\n",
    "\n",
    "plt.xlim(-0.1, 1.1); plt.ylim(f(a),f(c));\n",
    "#plt.xlim(a-0.1*(c-a),c+0.1*(c-a)); plt.ylim(f(a),f(c))\n",
    "plt.plot(x,y); plt.grid(); plt.axhline(y=0, c=\"k\"); plt.xlabel(r'$x$', size=20); plt.ylabel(r'$f(x)$', size=20);\n",
    "#plt.fill([a,b,b,a], [2,2,-2,-2], alpha=0.2)\n",
    "#plt.fill([b,c,c,b], [2,2,-2,-2], alpha=0.2)\n",
    "\n",
    "plt.axvline(x=b, ls=\"--\", c='r' )\n",
    "plt.text(a,-0.2, \"a\", fontsize=20)\n",
    "plt.text(b,-0.2, \"b\", fontsize=20)\n",
    "plt.text(c,-0.2, \"c\", fontsize=20)"
   ]
  },
  {
   "cell_type": "markdown",
   "metadata": {},
   "source": [
    "Y vamos a buscar el cero en los dos intervalos."
   ]
  },
  {
   "cell_type": "code",
   "execution_count": 9,
   "metadata": {},
   "outputs": [],
   "source": [
    "def mi_bonito_plot(a,c,f):\n",
    "\n",
    "    x = np.linspace(0, 1, 100)\n",
    "    y = f(x)\n",
    "\n",
    "    plt.xlim(-0.1, 1.1); plt.ylim(-2,2);\n",
    "    #plt.xlim(a-0.1*(c-a),c+0.1*(c-a)); plt.ylim(f(a),f(c))\n",
    "    plt.plot(x,y); plt.grid(); plt.axhline(y=0, c=\"k\"); plt.xlabel(r'$x$', size=20); plt.ylabel(r'$f(x)$', size=20);\n",
    "    plt.fill([a,b,b,a], [2,2,-2,-2], alpha=0.2)\n",
    "    plt.fill([b,c,c,b], [2,2,-2,-2], alpha=0.2)\n",
    "\n",
    "    plt.axvline(x=b, ls=\"--\", c='r' )\n",
    "    plt.text(a,-0.2, \"a\", fontsize=20)\n",
    "    plt.text(b,-0.2, \"b\", fontsize=20)\n",
    "    plt.text(c,-0.2, \"c\", fontsize=20)\n",
    "    \n",
    "    plt.scatter([a, b, c], [f(a),f(b),f(c)], s=60, c='r')\n",
    "    \n",
    "    print(\"tamaño del intervalo = \", c-a)"
   ]
  },
  {
   "cell_type": "markdown",
   "metadata": {},
   "source": [
    "Y de nuevo, como en el método por inspección, vamos a evaluar si la función cambia de signo entre $[a,b]$ o si cambia de signo entre $[b,c]$"
   ]
  },
  {
   "cell_type": "code",
   "execution_count": 10,
   "metadata": {},
   "outputs": [
    {
     "name": "stdout",
     "output_type": "stream",
     "text": [
      "tamaño del intervalo =  1\n"
     ]
    },
    {
     "data": {
      "image/png": "[encoded data removed]",
      "text/plain": [
       "<Figure size 432x288 with 1 Axes>"
      ]
     },
     "metadata": {
      "needs_background": "light"
     },
     "output_type": "display_data"
    }
   ],
   "source": [
    "mi_bonito_plot(a,c,f)"
   ]
  },
  {
   "cell_type": "code",
   "execution_count": 11,
   "metadata": {},
   "outputs": [],
   "source": [
    "def cambia_de_signo(x_l, x_r, f):\n",
    "    if( f(x_l)*f(x_r) > 0):\n",
    "        return False\n",
    "    else:\n",
    "        return True"
   ]
  },
  {
   "cell_type": "markdown",
   "metadata": {},
   "source": [
    "Como esperabamos, la función cambia de signo entre [0,1]. "
   ]
  },
  {
   "cell_type": "code",
   "execution_count": 12,
   "metadata": {},
   "outputs": [
    {
     "data": {
      "text/plain": [
       "True"
      ]
     },
     "execution_count": 12,
     "metadata": {},
     "output_type": "execute_result"
    }
   ],
   "source": [
    "cambia_de_signo(a, c, f)"
   ]
  },
  {
   "cell_type": "markdown",
   "metadata": {},
   "source": [
    "Y ahora en el primer intervalo [a,b]"
   ]
  },
  {
   "cell_type": "code",
   "execution_count": 13,
   "metadata": {},
   "outputs": [
    {
     "data": {
      "text/plain": [
       "True"
      ]
     },
     "execution_count": 13,
     "metadata": {},
     "output_type": "execute_result"
    }
   ],
   "source": [
    "cambia_de_signo(a, b, f)"
   ]
  },
  {
   "cell_type": "code",
   "execution_count": 14,
   "metadata": {},
   "outputs": [
    {
     "data": {
      "text/plain": [
       "False"
      ]
     },
     "execution_count": 14,
     "metadata": {},
     "output_type": "execute_result"
    }
   ],
   "source": [
    "cambia_de_signo(b, c, f)"
   ]
  },
  {
   "cell_type": "markdown",
   "metadata": {},
   "source": [
    "Nos vamos a quedar con el primer intervalo. Dejamos `a=a` y movemos `c` hacia la izquierda, `c=b`"
   ]
  },
  {
   "cell_type": "code",
   "execution_count": 15,
   "metadata": {},
   "outputs": [],
   "source": [
    "c = b"
   ]
  },
  {
   "cell_type": "markdown",
   "metadata": {},
   "source": [
    "Y repetimos el procedimiento:"
   ]
  },
  {
   "cell_type": "code",
   "execution_count": 16,
   "metadata": {},
   "outputs": [
    {
     "name": "stdout",
     "output_type": "stream",
     "text": [
      "tamaño del intervalo =  0.5\n"
     ]
    },
    {
     "data": {
      "image/png": "[encoded data removed]",
      "text/plain": [
       "<Figure size 432x288 with 1 Axes>"
      ]
     },
     "metadata": {
      "needs_background": "light"
     },
     "output_type": "display_data"
    }
   ],
   "source": [
    "b = (a+b)/2.0\n",
    "\n",
    "mi_bonito_plot(a, c, f)"
   ]
  },
  {
   "cell_type": "code",
   "execution_count": 17,
   "metadata": {},
   "outputs": [
    {
     "data": {
      "text/plain": [
       "False"
      ]
     },
     "execution_count": 17,
     "metadata": {},
     "output_type": "execute_result"
    }
   ],
   "source": [
    "cambia_de_signo(a, b, f)"
   ]
  },
  {
   "cell_type": "code",
   "execution_count": 18,
   "metadata": {},
   "outputs": [
    {
     "data": {
      "text/plain": [
       "True"
      ]
     },
     "execution_count": 18,
     "metadata": {},
     "output_type": "execute_result"
    }
   ],
   "source": [
    "cambia_de_signo(b, c, f)"
   ]
  },
  {
   "cell_type": "markdown",
   "metadata": {},
   "source": [
    "Achicamos el intervalo moviendo `b` hacia la derecha."
   ]
  },
  {
   "cell_type": "code",
   "execution_count": 19,
   "metadata": {},
   "outputs": [
    {
     "name": "stdout",
     "output_type": "stream",
     "text": [
      "tamaño del intervalo =  0.25\n"
     ]
    },
    {
     "data": {
      "image/png": "[encoded data removed]",
      "text/plain": [
       "<Figure size 432x288 with 1 Axes>"
      ]
     },
     "metadata": {
      "needs_background": "light"
     },
     "output_type": "display_data"
    }
   ],
   "source": [
    "a = b\n",
    "\n",
    "b = (a+c)/2.0\n",
    "\n",
    "mi_bonito_plot(a, c, f)"
   ]
  },
  {
   "cell_type": "code",
   "execution_count": 20,
   "metadata": {},
   "outputs": [
    {
     "data": {
      "text/plain": [
       "False"
      ]
     },
     "execution_count": 20,
     "metadata": {},
     "output_type": "execute_result"
    }
   ],
   "source": [
    "cambia_de_signo(a, b, f)"
   ]
  },
  {
   "cell_type": "code",
   "execution_count": 21,
   "metadata": {},
   "outputs": [
    {
     "data": {
      "text/plain": [
       "True"
      ]
     },
     "execution_count": 21,
     "metadata": {},
     "output_type": "execute_result"
    }
   ],
   "source": [
    "cambia_de_signo(b, c, f)"
   ]
  },
  {
   "cell_type": "code",
   "execution_count": 22,
   "metadata": {},
   "outputs": [
    {
     "name": "stdout",
     "output_type": "stream",
     "text": [
      "tamaño del intervalo =  0.125\n"
     ]
    },
    {
     "data": {
      "image/png": "[encoded data removed]",
      "text/plain": [
       "<Figure size 432x288 with 1 Axes>"
      ]
     },
     "metadata": {
      "needs_background": "light"
     },
     "output_type": "display_data"
    }
   ],
   "source": [
    "a = b\n",
    "\n",
    "b = (a+c)/2.0\n",
    "\n",
    "mi_bonito_plot(a, c, f)"
   ]
  },
  {
   "cell_type": "markdown",
   "metadata": {},
   "source": [
    "Haciendo esto tantas veces como sea necesario hasta que tengamos la condición de \n",
    "$$ \\left| f(x) \\right| < \\epsilon$$"
   ]
  },
  {
   "cell_type": "code",
   "execution_count": 23,
   "metadata": {},
   "outputs": [],
   "source": [
    "def encuentra_cero_por_biseccion_en(a, c, f, epsilon):\n",
    "    counter = 0\n",
    "    b = (a+c)/2.0\n",
    "\n",
    "    while( c-a > epsilon):\n",
    "        if cambia_de_signo(a ,b, f):\n",
    "            c = b\n",
    "        else:\n",
    "            a = b\n",
    "        counter +=1\n",
    "        b = (a+c)/2.0\n",
    "    \n",
    "    print(\"Pasos ejecutados: \", counter)\n",
    "    print(\"Tamaño del intervalo: \", c-a)\n",
    "    return b"
   ]
  },
  {
   "cell_type": "code",
   "execution_count": 24,
   "metadata": {},
   "outputs": [
    {
     "name": "stdout",
     "output_type": "stream",
     "text": [
      "Pasos ejecutados:  4\n",
      "Tamaño del intervalo:  0.0625\n"
     ]
    },
    {
     "data": {
      "text/plain": [
       "0.46875"
      ]
     },
     "execution_count": 24,
     "metadata": {},
     "output_type": "execute_result"
    }
   ],
   "source": [
    "encuentra_cero_por_biseccion_en(0, 1, f, 10**(-1))"
   ]
  },
  {
   "cell_type": "code",
   "execution_count": 25,
   "metadata": {},
   "outputs": [
    {
     "name": "stdout",
     "output_type": "stream",
     "text": [
      "Pasos ejecutados:  10\n",
      "Tamaño del intervalo:  0.0009765625\n"
     ]
    },
    {
     "data": {
      "text/plain": [
       "0.43798828125"
      ]
     },
     "execution_count": 25,
     "metadata": {},
     "output_type": "execute_result"
    }
   ],
   "source": [
    "encuentra_cero_por_biseccion_en(0, 1, f, 10**(-3))"
   ]
  },
  {
   "cell_type": "code",
   "execution_count": 26,
   "metadata": {},
   "outputs": [
    {
     "name": "stdout",
     "output_type": "stream",
     "text": [
      "Pasos ejecutados:  17\n",
      "Tamaño del intervalo:  7.62939453125e-06\n"
     ]
    },
    {
     "data": {
      "text/plain": [
       "0.4384498596191406"
      ]
     },
     "execution_count": 26,
     "metadata": {},
     "output_type": "execute_result"
    }
   ],
   "source": [
    "encuentra_cero_por_biseccion_en(0, 1, f, 10**(-5))"
   ]
  },
  {
   "cell_type": "code",
   "execution_count": 27,
   "metadata": {},
   "outputs": [
    {
     "name": "stdout",
     "output_type": "stream",
     "text": [
      "Pasos ejecutados:  34\n",
      "Tamaño del intervalo:  5.820766091346741e-11\n"
     ]
    },
    {
     "data": {
      "text/plain": [
       "0.4384471872181166"
      ]
     },
     "execution_count": 27,
     "metadata": {},
     "output_type": "execute_result"
    }
   ],
   "source": [
    "encuentra_cero_por_biseccion_en(0, 1, f, 10**(-10))"
   ]
  },
  {
   "cell_type": "code",
   "execution_count": 28,
   "metadata": {},
   "outputs": [
    {
     "data": {
      "text/plain": [
       "Text(0, 0.5, 'Número de pasos')"
      ]
     },
     "execution_count": 28,
     "metadata": {},
     "output_type": "execute_result"
    },
    {
     "data": {
      "image/png": "[encoded data removed]",
      "text/plain": [
       "<Figure size 432x288 with 1 Axes>"
      ]
     },
     "metadata": {
      "needs_background": "light"
     },
     "output_type": "display_data"
    }
   ],
   "source": [
    "N = [1e1, 1e3, 1e5, 1e10]\n",
    "pasos = [4, 10, 17, 34]\n",
    "\n",
    "plt.scatter(N,pasos)\n",
    "plt.xscale(\"log\"); #plt.xlim(1e-11,1)\n",
    "plt.xlabel(r\"Precisión^{-1} ($N = 1/\\epsilon$)\", fontsize=15)\n",
    "plt.ylabel(\"Número de pasos\", fontsize=15)"
   ]
  },
  {
   "cell_type": "markdown",
   "metadata": {},
   "source": [
    "### Teorema del método de bisección:\n",
    "\n",
    "Podemos calcular el mínimo de pasos necesarios para llegar a la raíz con una tolerancia $\\pm \\epsilon$ dentro del intervalo inicial [a,c]\n",
    "\n",
    "$$ N \\geq \\frac{\\log\\left(\\frac{c-a}{\\epsilon}\\right)}{\\log{2}} $$\n",
    "\n",
    "https://x-engineer.org/undergraduate-engineering/advanced-mathematics/numerical-methods/the-bisection-method-for-root-finding/"
   ]
  },
  {
   "cell_type": "code",
   "execution_count": 29,
   "metadata": {},
   "outputs": [],
   "source": [
    "def N_min (a,c, epsilon):\n",
    "    return np.log( (c-a)/epsilon) / np.log(2)"
   ]
  },
  {
   "cell_type": "code",
   "execution_count": 30,
   "metadata": {},
   "outputs": [
    {
     "data": {
      "text/plain": [
       "3.3219280948873626"
      ]
     },
     "execution_count": 30,
     "metadata": {},
     "output_type": "execute_result"
    }
   ],
   "source": [
    "N_min(0,1, 1e-1)"
   ]
  },
  {
   "cell_type": "code",
   "execution_count": 31,
   "metadata": {},
   "outputs": [
    {
     "data": {
      "text/plain": [
       "9.965784284662087"
      ]
     },
     "execution_count": 31,
     "metadata": {},
     "output_type": "execute_result"
    }
   ],
   "source": [
    "N_min(0,1, 1e-3)"
   ]
  },
  {
   "cell_type": "code",
   "execution_count": 32,
   "metadata": {},
   "outputs": [
    {
     "data": {
      "text/plain": [
       "16.609640474436812"
      ]
     },
     "execution_count": 32,
     "metadata": {},
     "output_type": "execute_result"
    }
   ],
   "source": [
    "N_min(0,1, 1e-5)"
   ]
  },
  {
   "cell_type": "code",
   "execution_count": 33,
   "metadata": {
    "scrolled": true
   },
   "outputs": [
    {
     "data": {
      "text/plain": [
       "33.219280948873624"
      ]
     },
     "execution_count": 33,
     "metadata": {},
     "output_type": "execute_result"
    }
   ],
   "source": [
    "N_min(0,1, 1e-10)"
   ]
  },
  {
   "cell_type": "code",
   "execution_count": 34,
   "metadata": {},
   "outputs": [
    {
     "data": {
      "text/plain": [
       "Text(0, 0.5, 'Número de pasos')"
      ]
     },
     "execution_count": 34,
     "metadata": {},
     "output_type": "execute_result"
    },
    {
     "data": {
      "image/png": "[encoded data removed]",
      "text/plain": [
       "<Figure size 432x288 with 1 Axes>"
      ]
     },
     "metadata": {
      "needs_background": "light"
     },
     "output_type": "display_data"
    }
   ],
   "source": [
    "N = np.array([1e1, 1e3, 1e5, 1e10])\n",
    "pasos = [4, 10, 17, 34]\n",
    "\n",
    "plt.plot(N, N_min(0,1, 1/N))\n",
    "plt.scatter(N,pasos)\n",
    "plt.xscale(\"log\"); #plt.xlim(1e-11,1)\n",
    "plt.xlabel(r\"Precisión^{-1} ($N = 1/\\epsilon$)\", fontsize=15)\n",
    "plt.ylabel(\"Número de pasos\", fontsize=15)"
   ]
  },
  {
   "cell_type": "markdown",
   "metadata": {},
   "source": [
    "### Resumen del Cero por Bisección:\n",
    "\n",
    "1. Graficar la función para saber dónde voy a buscar el cero.\n",
    "\n",
    "2. Definir a mano ese primer intervalo $[a,c]$, y definir la tolerancia epsilon\n",
    "\n",
    "3. definir el punto medio \n",
    "$$b = \\frac{a+c}{2}$$\n",
    "\n",
    "4. Evaluar si la función cambia de signo en el intervalo $[a,b]$ o en el intervalo $[a,c]$\n",
    "\n",
    "5. Elegir el intervalo donde cambió como el nuevo intervalo $[a,c]$. (Esto es reemplazar a por b  o reemplazar c por b, según el caso)\n",
    "\n",
    "6. Repetir  desde 3 mientras que el intervalo sea mayor que una tolerancia que definimos desde un principio\n",
    "\n",
    "$$(c-a) < \\epsilon$$"
   ]
  },
  {
   "cell_type": "code",
   "execution_count": null,
   "metadata": {},
   "outputs": [],
   "source": []
  },
  {
   "cell_type": "markdown",
   "metadata": {},
   "source": [
    "## Método 3: Newton-Rapshon\n",
    "\n"
   ]
  },
  {
   "cell_type": "markdown",
   "metadata": {},
   "source": [
    "De nuevo, tenemos nuestra función $f(x)$, y estamos parados en el punto $x_0$ cerca a la raíz de la función. Entonces:\n",
    "$$ f(x_0) \\simeq 0 $$"
   ]
  },
  {
   "cell_type": "code",
   "execution_count": 35,
   "metadata": {},
   "outputs": [
    {
     "data": {
      "text/plain": [
       "Text(0.05, -2, '$f(x_0)$')"
      ]
     },
     "execution_count": 35,
     "metadata": {},
     "output_type": "execute_result"
    },
    {
     "data": {
      "image/png": "[encoded data removed]",
      "text/plain": [
       "<Figure size 432x288 with 1 Axes>"
      ]
     },
     "metadata": {
      "needs_background": "light"
     },
     "output_type": "display_data"
    }
   ],
   "source": [
    "x0 = 0\n",
    "\n",
    "x = np.linspace(-2, 7, 100)\n",
    "y = f(x)\n",
    "\n",
    "#plt.xlim(-0.2, 1.2); plt.ylim(-4,2.1);\n",
    "plt.plot(x,y); plt.grid(); plt.axhline(y=0, c=\"k\"); plt.xlabel(r'$x$', size=20); plt.ylabel(r'$f(x)$', size=20);\n",
    "\n",
    "plt.scatter(x0, f(x0), s=60, c='r')\n",
    "plt.text(x0 + 0.05, f(x0), r\"$f(x_0)$\", fontsize=20)"
   ]
  },
  {
   "cell_type": "markdown",
   "metadata": {},
   "source": [
    "Podemos aproximar la función $f(x)$ a una línea recta, conservando los dos primeros términos de la serie de Taylor.\n",
    "$$ f(x = x_0 + \\Delta x) \\simeq f(x_0) + \\frac{df}{dx} \\bigg|_{x_0} $$\n",
    "\n",
    "siendo $\\Delta x$ la corrección desconocida que queremos realizar para movernos hacia la raíz."
   ]
  },
  {
   "cell_type": "code",
   "execution_count": 36,
   "metadata": {},
   "outputs": [
    {
     "data": {
      "text/plain": [
       "Text(0.05, -2, '$f(x_0)$')"
      ]
     },
     "execution_count": 36,
     "metadata": {},
     "output_type": "execute_result"
    },
    {
     "data": {
      "image/png": "[encoded data removed]",
      "text/plain": [
       "<Figure size 432x288 with 1 Axes>"
      ]
     },
     "metadata": {
      "needs_background": "light"
     },
     "output_type": "display_data"
    }
   ],
   "source": [
    "x0 = 0\n",
    "\n",
    "x = np.linspace(-0.2, 1.1, 100)\n",
    "y = f(x)\n",
    "\n",
    "#plt.xlim(-0.2, 1.2); plt.ylim(-4,2.1);\n",
    "plt.plot(x,y); plt.grid(); plt.axhline(y=0, c=\"k\"); plt.xlabel(r'$x$', size=20); plt.ylabel(r'$f(x)$', size=20);\n",
    "\n",
    "plt.scatter(x0, f(x0), s=60, c='r')\n",
    "plt.text(x0 + 0.05, f(x0), r\"$f(x_0)$\", fontsize=20)"
   ]
  },
  {
   "cell_type": "markdown",
   "metadata": {},
   "source": [
    "Con esta aproximación lineal, en el punto $x$ la función vale cero. Entonces:\n",
    "\n",
    "$$  f(x_0) + \\frac{df}{dx}\\bigg|_{x0} \\Delta x = 0 $$\n",
    "\n",
    "despejando, encontramos que la corrección $\\Delta x$ que queremos hacer es:\n",
    "\n",
    "$$ \\Delta x = - \\frac{ f(x) }{ df / dx |_{x0} }$$\n",
    "\n",
    "\n",
    "\n",
    "Podemos usar la definición de derivada con dos puntos:\n",
    "$$ \\frac{df}{dx} \\approx \\frac{f(x+ \\epsilon) - f(x)}{\\epsilon} + \\mathcal{O(\\epsilon^2)}$$\n",
    "con $\\epsilon$ pequeño."
   ]
  },
  {
   "cell_type": "code",
   "execution_count": 37,
   "metadata": {},
   "outputs": [],
   "source": [
    "def derivada(x, epsilon, f):\n",
    "    return (f(x+epsilon) - f(x))/epsilon"
   ]
  },
  {
   "cell_type": "code",
   "execution_count": 38,
   "metadata": {},
   "outputs": [
    {
     "data": {
      "text/plain": [
       "4.998999999999976"
      ]
     },
     "execution_count": 38,
     "metadata": {},
     "output_type": "execute_result"
    }
   ],
   "source": [
    "derivada(x0, 0.001, f)"
   ]
  },
  {
   "cell_type": "code",
   "execution_count": 39,
   "metadata": {},
   "outputs": [],
   "source": [
    "def recta(x, m, b):\n",
    "    return m*x + b"
   ]
  },
  {
   "cell_type": "code",
   "execution_count": 40,
   "metadata": {},
   "outputs": [
    {
     "data": {
      "text/plain": [
       "Text(0.05, -2, '$f(x_0)$')"
      ]
     },
     "execution_count": 40,
     "metadata": {},
     "output_type": "execute_result"
    },
    {
     "data": {
      "image/png": "[encoded data removed]",
      "text/plain": [
       "<Figure size 432x288 with 1 Axes>"
      ]
     },
     "metadata": {
      "needs_background": "light"
     },
     "output_type": "display_data"
    }
   ],
   "source": [
    "x0 = -0\n",
    "\n",
    "x  = np.linspace(-0.2, 1.1, 100)\n",
    "y  = f(x)\n",
    "\n",
    "m = derivada(x0, 0.001, f)\n",
    "b = f(x0)-(m*x0)\n",
    "y2 = recta(x, m, b)    # Esta es la aproximación\n",
    "\n",
    "#plt.xlim(-0.2, 1.2); plt.ylim(-4,2.1);\n",
    "plt.plot(x,y); plt.grid(); plt.axhline(y=0, c=\"k\"); plt.xlabel(r'$x$', size=20); plt.ylabel(r'$f(x)$', size=20);\n",
    "plt.plot(x,y2)\n",
    "\n",
    "plt.scatter(x0, f(x0), s=60, c='r')\n",
    "plt.text(x0 + 0.05, f(x0), r\"$f(x_0)$\", fontsize=20)"
   ]
  },
  {
   "cell_type": "markdown",
   "metadata": {},
   "source": [
    "La corrección necesaria en este caso será:"
   ]
  },
  {
   "cell_type": "code",
   "execution_count": 41,
   "metadata": {},
   "outputs": [
    {
     "name": "stdout",
     "output_type": "stream",
     "text": [
      "0.40000800015999866\n"
     ]
    }
   ],
   "source": [
    "Deltax = -f(x0) / derivada(x0, 0.0001, f)\n",
    "\n",
    "print(x0 + Deltax)"
   ]
  },
  {
   "cell_type": "markdown",
   "metadata": {},
   "source": [
    "y repetimos."
   ]
  },
  {
   "cell_type": "code",
   "execution_count": 42,
   "metadata": {},
   "outputs": [
    {
     "data": {
      "text/plain": [
       "Text(0.45000800015999864, -0.15996639939200819, '$f(x_0)$')"
      ]
     },
     "execution_count": 42,
     "metadata": {},
     "output_type": "execute_result"
    },
    {
     "data": {
      "image/png": "[encoded data removed]",
      "text/plain": [
       "<Figure size 432x288 with 1 Axes>"
      ]
     },
     "metadata": {
      "needs_background": "light"
     },
     "output_type": "display_data"
    }
   ],
   "source": [
    "x0 = x0 + Deltax\n",
    "\n",
    "x  = np.linspace(-0.2, 1.1, 100)\n",
    "y  = f(x)\n",
    "\n",
    "m = derivada(x0, 0.00001, f)\n",
    "b = f(x0)-(m*x0)\n",
    "y2 = recta(x, m, b)    # Esta es la aproximación\n",
    "\n",
    "#plt.xlim(-0.2, 1.2); plt.ylim(-4,2.1);\n",
    "plt.plot(x,y); plt.grid(); plt.axhline(y=0, c=\"k\"); plt.xlabel(r'$x$', size=20); plt.ylabel(r'$f(x)$', size=20);\n",
    "plt.plot(x,y2)\n",
    "\n",
    "plt.scatter(x0, f(x0), s=60, c='r')\n",
    "plt.text(x0 + 0.05, f(x0), r\"$f(x_0)$\", fontsize=20)"
   ]
  },
  {
   "cell_type": "code",
   "execution_count": 43,
   "metadata": {},
   "outputs": [
    {
     "name": "stdout",
     "output_type": "stream",
     "text": [
      "Valor actual de x0:  0.40000800015999866  f(x0) -0.15996639939200819\n",
      "Corrección:  0.03808747373323028\n",
      "Nuevo Valor de x0:  0.43809547389322895  f(x0) -0.0014502747795881454\n"
     ]
    }
   ],
   "source": [
    "Deltax = -f(x0) / derivada(x0, 0.00001, f)\n",
    "\n",
    "print(\"Valor actual de x0: \", x0, \" f(x0)\", f(x0))\n",
    "print(\"Corrección: \", Deltax)\n",
    "print(\"Nuevo Valor de x0: \", x0 + Deltax, \" f(x0)\", f(x0 + Deltax))\n",
    "\n",
    "x0 = x0 + Deltax"
   ]
  },
  {
   "cell_type": "code",
   "execution_count": 44,
   "metadata": {},
   "outputs": [
    {
     "name": "stdout",
     "output_type": "stream",
     "text": [
      "Valor actual de x0:  0.43809547389322895  f(x0) -0.0014502747795881454\n",
      "Corrección:  0.0003516841536712744\n",
      "Nuevo Valor de x0:  0.4384471580469002  f(x0) -1.201649024729079e-07\n"
     ]
    }
   ],
   "source": [
    "Deltax = -f(x0) / derivada(x0, 0.00001, f)\n",
    "\n",
    "print(\"Valor actual de x0: \", x0, \" f(x0)\", f(x0))\n",
    "print(\"Corrección: \", Deltax)\n",
    "print(\"Nuevo Valor de x0: \", x0 + Deltax, \" f(x0)\", f(x0 + Deltax))\n",
    "\n",
    "x0 = x0 + Deltax"
   ]
  },
  {
   "cell_type": "code",
   "execution_count": 45,
   "metadata": {},
   "outputs": [
    {
     "name": "stdout",
     "output_type": "stream",
     "text": [
      "Valor actual de x0:  0.4384471580469002  f(x0) -1.201649024729079e-07\n",
      "Corrección:  2.9144340002171953e-08\n",
      "Nuevo Valor de x0:  0.4384471871912402  f(x0) 2.90878432451791e-13\n"
     ]
    }
   ],
   "source": [
    "Deltax = -f(x0) / derivada(x0, 0.00001, f)\n",
    "\n",
    "print(\"Valor actual de x0: \", x0, \" f(x0)\", f(x0))\n",
    "print(\"Corrección: \", Deltax)\n",
    "print(\"Nuevo Valor de x0: \", x0 + Deltax, \" f(x0)\", f(x0 + Deltax))\n",
    "\n",
    "x0 = x0 + Deltax"
   ]
  },
  {
   "cell_type": "markdown",
   "metadata": {},
   "source": [
    "En cuatro pasos hemos superado la precisión que tomó 17 pasos en el método de bisección."
   ]
  },
  {
   "cell_type": "code",
   "execution_count": 46,
   "metadata": {},
   "outputs": [],
   "source": [
    "def encuentra_cero_por_Newton_Raphson(x0, x_precision, epsilon, f):\n",
    "    Deltax = - f(x0) / derivada(x0, epsilon, f) \n",
    "    counter = 0\n",
    "    \n",
    "    while( abs( Deltax ) > x_precision):\n",
    "        Deltax = -f(x0) / derivada(x0, epsilon, f)\n",
    "        x0 += Deltax\n",
    "        counter += 1\n",
    "        \n",
    "    print(\"x0=\", x0, \", f(x0)=\", f(x0), \", pasos=\", counter)\n",
    "    return x0"
   ]
  },
  {
   "cell_type": "code",
   "execution_count": 47,
   "metadata": {},
   "outputs": [
    {
     "name": "stdout",
     "output_type": "stream",
     "text": [
      "x0= 0.43844718719116976 , f(x0)= 4.440892098500626e-16 , pasos= 5\n"
     ]
    },
    {
     "data": {
      "text/plain": [
       "0.43844718719116976"
      ]
     },
     "execution_count": 47,
     "metadata": {},
     "output_type": "execute_result"
    }
   ],
   "source": [
    "encuentra_cero_por_Newton_Raphson(0, 1e-10, 1e-10, f)"
   ]
  },
  {
   "cell_type": "markdown",
   "metadata": {},
   "source": [
    "# Resumen del método de Newton-Raphson\n",
    "\n",
    "1. Tenemos un punto inicial cercano a la raíz que queremos encontrar. (Importante hacer la gráfica para saber dónde empezar)\n",
    "\n",
    "2. Calculamos la pendiente.\n",
    "\n",
    "3. Aproximamos la función a una recta.\n",
    "\n",
    "4. Calculamos cuál es el punto de corte de la recta.\n",
    "\n",
    "5. Desplazamos nuestro punto inicial hacia ese corte.\n",
    "\n",
    "6. Repetimos hasta alcanzar la precisión deseada."
   ]
  },
  {
   "cell_type": "markdown",
   "metadata": {},
   "source": [
    "con la pendiente $$ m = \\frac{df}{dx} $$\n",
    "\n",
    "$$ \\Delta x = - \\frac{f(x_0)}{df/dx}$$\n",
    "\n",
    "$$ x_{new} = x_0 + \\Delta x$$\n",
    "\n",
    "Usando la derivada que ya veníamos utilizando en la clase magistral\n",
    "\n",
    "$$ \\frac{df}{dx} \\approx \\frac{f(x+\\delta x) - f(x)}{\\delta x} $$"
   ]
  },
  {
   "cell_type": "markdown",
   "metadata": {},
   "source": [
    "Revisar el libro \"A Survey of Computational Physics\" de Landau, Páez y Bordeianau.  (2008) para una discusión sobre cuando este método falla."
   ]
  },
  {
   "cell_type": "code",
   "execution_count": null,
   "metadata": {},
   "outputs": [],
   "source": []
  }
 ],
 "metadata": {
  "kernelspec": {
   "display_name": "Python 3",
   "language": "python",
   "name": "python3"
  },
  "language_info": {
   "codemirror_mode": {
    "name": "ipython",
    "version": 3
   },
   "file_extension": ".py",
   "mimetype": "text/x-python",
   "name": "python",
   "nbconvert_exporter": "python",
   "pygments_lexer": "ipython3",
   "version": "3.7.6"
  }
 },
 "nbformat": 4,
 "nbformat_minor": 4
}
