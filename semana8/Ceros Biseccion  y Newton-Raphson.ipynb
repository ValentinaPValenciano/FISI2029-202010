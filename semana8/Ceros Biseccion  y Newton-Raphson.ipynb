{
 "cells": [
  {
   "cell_type": "code",
   "execution_count": 1,
   "metadata": {},
   "outputs": [],
   "source": [
    "import numpy as np\n",
    "import matplotlib.pyplot as plt\n",
    "from scipy import special as spes"
   ]
  },
  {
   "cell_type": "code",
   "execution_count": 2,
   "metadata": {},
   "outputs": [],
   "source": [
    "x = np.linspace(0,20, 100)"
   ]
  },
  {
   "cell_type": "code",
   "execution_count": 3,
   "metadata": {},
   "outputs": [],
   "source": [
    "f = spes.j0"
   ]
  },
  {
   "cell_type": "code",
   "execution_count": 4,
   "metadata": {},
   "outputs": [
    {
     "data": {
      "image/png": "[encoded data removed]",
      "text/plain": [
       "<Figure size 432x288 with 1 Axes>"
      ]
     },
     "metadata": {
      "needs_background": "light"
     },
     "output_type": "display_data"
    }
   ],
   "source": [
    "plt.plot(x, f(x))\n",
    "plt.grid()"
   ]
  },
  {
   "cell_type": "markdown",
   "metadata": {},
   "source": [
    "Tenemos una función $f(x)$ y queremos encontrar sus raíces, i.e. los valores de $x$ donde $f(x)=0$"
   ]
  },
  {
   "cell_type": "markdown",
   "metadata": {},
   "source": [
    "# Ceros por Bisección:\n",
    "\n",
    "Vamos a buscar el primer cero de nuestra función J0 de Bessel.\n",
    "Elegimos un intervalo dentro del cual queremos encontrar los ceros. Este intervalo será $[a,c]$. Si hay sólamente una raíz en el intervalo, la función evaluada en los dos puntos tendrá signos diferentes, esto es:\n",
    "$$ \\frac{f(a)}{f(c)} < 0 $$\n",
    "si no hay un cero entre el intervalo entonces\n",
    "\n",
    "En nuestro ejemplo, $[0,3]$.\n",
    "\n",
    "Buscamos el punto medio entre $a$ y $c$, lo llamaremos $b$, y evaluamos en cuál de los dos sub-intervalos se mantiene la diferencia de signos:\n",
    "O bien se cumple $ \\frac{f(a)}{f(b)} < 0 $, o bien  $ \\frac{f(b)}{f(c)} < 0 $.\n",
    "\n",
    "(Caso especial, $f(b)=0$, habremos encontrado la raíz y podemos detenernos.)\n",
    "\n",
    "\n",
    "En el intervalo que se cumpla, repetimos la bisección, e iteramos hasta obtener un error que definiremos como $\\epsilon$.\n",
    "\n",
    "$$| f(b)| < \\epsilon$$"
   ]
  },
  {
   "cell_type": "markdown",
   "metadata": {},
   "source": [
    "## Ejercicio 1\n",
    "\n",
    "Implemente una función que encuentre los ceros por bisección con $\\epsilon = 10^{-6}$. Llámela para encontrar los cinco primeros ceros de la función de Bessel. Compare con los ceros de referencia dados por jn_zeros."
   ]
  },
  {
   "cell_type": "code",
   "execution_count": 5,
   "metadata": {},
   "outputs": [
    {
     "data": {
      "text/plain": [
       "array([ 2.40482556,  5.52007811,  8.65372791, 11.79153444, 14.93091771,\n",
       "       18.07106397])"
      ]
     },
     "execution_count": 5,
     "metadata": {},
     "output_type": "execute_result"
    }
   ],
   "source": [
    "spes.jn_zeros(0, 6)"
   ]
  },
  {
   "cell_type": "markdown",
   "metadata": {},
   "source": [
    "# Newton-Raphson\n",
    "\n",
    "Tenemos la función $f(x)$. Estamos parados en un punto inicial $x_0$ cercano a un cero, esto es: $f(x_0)\\approx 0$ y vamos a buscar el cero más cercano utilizando la recta tangente que se parezca a la nuestra función.\n",
    "$$f(x) \\approx mx + b$$\n",
    "\n",
    "En el intercepto de la recta tenemos $$ 0 = m x + b$$\n",
    "$$ x = -\\frac{b}{m}$$\n"
   ]
  },
  {
   "cell_type": "markdown",
   "metadata": {},
   "source": [
    "con la pendiente $$ m = \\frac{df}{dx} $$\n",
    "\n",
    "$$ \\Delta x = - \\frac{f(x_0)}{df/dx}$$\n",
    "\n",
    "$$ x_{new} = x_0 + \\Delta x$$\n",
    "\n",
    "Usando la derivada que ya veníamos utilizando en la clase magistral\n",
    "\n",
    "$$ \\frac{df}{dx} \\approx \\frac{f(x+\\delta x) - f(x)}{\\delta x} $$"
   ]
  },
  {
   "cell_type": "code",
   "execution_count": null,
   "metadata": {},
   "outputs": [],
   "source": []
  }
 ],
 "metadata": {
  "kernelspec": {
   "display_name": "Python 3",
   "language": "python",
   "name": "python3"
  },
  "language_info": {
   "codemirror_mode": {
    "name": "ipython",
    "version": 3
   },
   "file_extension": ".py",
   "mimetype": "text/x-python",
   "name": "python",
   "nbconvert_exporter": "python",
   "pygments_lexer": "ipython3",
   "version": "3.7.6"
  }
 },
 "nbformat": 4,
 "nbformat_minor": 4
}
