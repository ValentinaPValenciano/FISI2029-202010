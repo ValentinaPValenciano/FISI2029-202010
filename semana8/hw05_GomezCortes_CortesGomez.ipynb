{
 "cells": [
  {
   "cell_type": "markdown",
   "metadata": {},
   "source": [
    "# HW 05\n",
    "\n",
    "Fecha de entrega: Martes 14 de Abril de 2020 a las 12:00m\n",
    "\n",
    "Grupos: 1 - 2 personas máximo. \n",
    "\n",
    "Formato de entrega: Este Jupyter Notebook (.ipnb) El nombre del archivo debe tener los apellidos completos del/los integrante/s. No borren los comentarios que dejo, por favor.\n",
    "\n",
    "Medio de entrega: Evaluación en Sicuaplus\n",
    "\n",
    "Ver secciones 8.1 y 8.2 de \"A Survey of Computational Physics\", Landau, Páez y Bordeinau. (2008)\n",
    "\n",
    "Canal de comunicación oficial: Microsoft Teams"
   ]
  },
  {
   "cell_type": "markdown",
   "metadata": {},
   "source": [
    "## Parte 1 (130 puntos)"
   ]
  },
  {
   "cell_type": "code",
   "execution_count": 1,
   "metadata": {},
   "outputs": [],
   "source": [
    "import numpy as np\n",
    "import matplotlib.pyplot as plt\n",
    "\n",
    "np.set_printoptions(precision=3, suppress=True)"
   ]
  },
  {
   "cell_type": "code",
   "execution_count": null,
   "metadata": {},
   "outputs": [],
   "source": [
    "# Condiciones de prueba: masas colgando verticalmente sin tensión T2\n",
    "L, L1, L2, L3  = 4, 4, 4, 4  # Longitudes\n",
    "W1, W2         = 10, 20      # Pesos"
   ]
  },
  {
   "cell_type": "code",
   "execution_count": null,
   "metadata": {},
   "outputs": [],
   "source": [
    "# 1.a (10 puntos)\n",
    "# \n",
    "# Establezca correctamente los valores numéricos de las condiciones\n",
    "# iniciales de prueba para una  configuración de 2 masas colgando \n",
    "# verticalmente con la tensión T2 = 0\n",
    "\n",
    "# Puede trabajar con \n",
    "#    y = [x0,...x8] \n",
    "# o con \n",
    "#    y=[x1, ... , x9] \n",
    "# siguiendo la notación del libro (eq 8.10)\n",
    "\n",
    "x0 = \n",
    "x1 = \n",
    "x2 = \n",
    "x3 = \n",
    "x4 = \n",
    "x5 = \n",
    "x6 = \n",
    "x7 =\n",
    "x8 = \n",
    "x9 = \n",
    "\n",
    "y = "
   ]
  },
  {
   "cell_type": "code",
   "execution_count": null,
   "metadata": {},
   "outputs": [],
   "source": [
    "# 1.b (10 puntos)\n",
    "#\n",
    "# Escriba las nueve funciones f_i(y)\n",
    "def f_3(y):\n",
    "    return # algo con longitudes, senos y cosenos, por ejemplo.\n",
    "def f_5(y):\n",
    "    return # algo con tensiones, pesos, senos y cosenos, por ejemplo."
   ]
  },
  {
   "cell_type": "markdown",
   "metadata": {},
   "source": [
    "$$\\vec{f}(\\vec{y}) = [f_1(\\vec{y}), f_2(\\vec{y}), ... , f_9(\\vec{y})]$$"
   ]
  },
  {
   "cell_type": "code",
   "execution_count": null,
   "metadata": {},
   "outputs": [],
   "source": [
    "# 1.c (10 puntos)\n",
    "#\n",
    "# Escriba una función f_vec(y) que retorne la eq. 8.12\n",
    "\n",
    "def f_vec(y):\n",
    "    return np.array([ #Inserte el las 9 funciones aquí.\n",
    "            ])"
   ]
  },
  {
   "cell_type": "code",
   "execution_count": null,
   "metadata": {},
   "outputs": [],
   "source": [
    "# 1.d (10 puntos)\n",
    "# \n",
    "# Verifique que con nuestras condiciones de prueba, \n",
    "# (masas colgando verticalmente),\n",
    "# se cumple f_vec(y) = 0\n",
    "\n",
    "print(f_vec(y))"
   ]
  },
  {
   "cell_type": "markdown",
   "metadata": {},
   "source": [
    "Recuerden que $y$ es un vector:\n",
    "$$ \\vec{y} = [x_1, x_2, ..., x_9]$$\n",
    "\n",
    "Para implementar la derivada parcial\n",
    "$$ \\frac{\\partial f_i (\\vec{y})}{\\partial x_j} = \\frac{ f_i(\\vec{y} + \\vec{\\Delta x_j}) - f_i(\\vec{y})}{\\Delta x_j}$$\n",
    "hacen la variación de una sola componente de $y$ incrementando en una cantidad $\\Delta x_j$\n",
    "\n",
    "\n",
    "$$ \\vec{\\Delta x_j} = [ 0, 0, ... ,\\Delta x_j, .., 0]$$"
   ]
  },
  {
   "cell_type": "code",
   "execution_count": null,
   "metadata": {},
   "outputs": [],
   "source": [
    "# 1.e (10 puntos)\n",
    "# \n",
    "# implemente la función de derivada parcial para derivar f_i(y) \n",
    "# respecto a x_j, evaluada en y.\n",
    "\n",
    "def nombre_original(argumentos aquí):\n",
    "    DeltaX_j = 1e-6\n",
    "    # Otras cosas\n",
    "    return # algo muy bonito usando la ecuación 8.18"
   ]
  },
  {
   "cell_type": "code",
   "execution_count": null,
   "metadata": {},
   "outputs": [],
   "source": [
    "# 1.f (10 puntos)\n",
    "# \n",
    "# Usando la función de derivadas, implemente F como sugiere el libro\n",
    "# y calcule el Jacobiano como la inversa de F.\n",
    "\n",
    "F = np.zeros([9,9])\n",
    "for i in range(9):\n",
    "    for j in range(9):\n",
    "        # F[i,j] = derivada parcial de f_i respecto a x_j evaluada en y.\n",
    "        \n",
    "Jacobiano = #numpy para invertir matriz( F )"
   ]
  },
  {
   "cell_type": "markdown",
   "metadata": {},
   "source": [
    "Calcule la corrección en $\\vec{\\Delta y} = [ \\Delta x_1, \\Delta x_2, ... , \\Delta x_9]$, usando el Jacobiano y la función evaluada en la posición actual.\n",
    "\n",
    "$$\\vec{\\Delta y} = - F^{-1} \\cdot \\vec{f}(\\vec{y}) $$"
   ]
  },
  {
   "cell_type": "code",
   "execution_count": null,
   "metadata": {},
   "outputs": [],
   "source": [
    "# 1.g (10 puntos)\n",
    "#\n",
    "# aquí va el delta y.\n"
   ]
  },
  {
   "cell_type": "markdown",
   "metadata": {},
   "source": [
    " $$\\vec y_{new} = \\vec y + \\vec{\\Delta y}$$"
   ]
  },
  {
   "cell_type": "code",
   "execution_count": null,
   "metadata": {},
   "outputs": [],
   "source": [
    "# 1.h (10 puntos)\n",
    "#\n",
    "# Calcule y_new a partir de y y delta y\n"
   ]
  },
  {
   "cell_type": "code",
   "execution_count": null,
   "metadata": {},
   "outputs": [],
   "source": [
    "# 1.i (10 puntos)\n",
    "#\n",
    "# Compare f(y) con f(y_new). ¿Mejoró, empeoró o se quedó igual?\n"
   ]
  },
  {
   "cell_type": "code",
   "execution_count": null,
   "metadata": {},
   "outputs": [],
   "source": [
    "# 1.j (50 puntos si todo funciona bien) \n",
    "#\n",
    "# Escriba una función que realice varias iteraciones\n",
    "# delta y = - Jacobiano * f(y)\n",
    "# y_new = y + delta y\n",
    "# y = y_new\n",
    "# y se detenga cuando el valor absoluto de todos \n",
    "# los nueve elementos de f(y) sean menores que epsilon\n",
    "# Imprima el número de pasos realizados\n",
    "\n",
    "epsilon = 1.e-6"
   ]
  },
  {
   "cell_type": "markdown",
   "metadata": {},
   "source": [
    "# Parte 2 (70 puntos)"
   ]
  },
  {
   "cell_type": "code",
   "execution_count": null,
   "metadata": {},
   "outputs": [],
   "source": [
    "# Haga el experimento casero para calcular la solución \n",
    "# con las condiciones propuestas en el libro\n",
    "# Condiciones de prueba: masas colgando CON tensión T2\n",
    "L, L1, L2, L3  = 8, 3, 4, 4  # Longitudes\n",
    "W1, W2         = 10, 20      # Pesos"
   ]
  },
  {
   "cell_type": "raw",
   "metadata": {},
   "source": [
    "# 2.1 (30 puntos)\n",
    "# \n",
    "# Suba el vídeo a la nube (google drive, youtube, microsoft algo, dropbox)\n",
    "# donde se muestre el arreglo experimental y cómo se determinaron\n",
    "# los ángulos.\n",
    "# No es necesario que el vídeo quede público para el mundo mundial.\n",
    "# Lo vamos a compartir con los compañeros para la próxima clase.\n",
    "# En este Notebook que entregará, adjunte la url del vídeo.\n",
    "\n",
    "url = https://www.youtube.com/watch?v=OLzQ7wOR4AA"
   ]
  },
  {
   "cell_type": "code",
   "execution_count": null,
   "metadata": {},
   "outputs": [],
   "source": [
    "# 2.2 (20 puntos)\n",
    "#\n",
    "# Calcule los ángulos, las tensiones y demás 9 variables x\n",
    "# Escriba aquí las nuevas condiciones iniciales.\n",
    "\n",
    "\n",
    "x0 = \n",
    "x1 = \n",
    "x2 = \n",
    "x3 = \n",
    "x4 = \n",
    "x5 = \n",
    "x6 = \n",
    "x7 =\n",
    "x8 = \n",
    "x9 = \n",
    "\n",
    "y = "
   ]
  },
  {
   "cell_type": "code",
   "execution_count": null,
   "metadata": {},
   "outputs": [],
   "source": [
    "# 2.3 (20 puntos)\n",
    "# \n",
    "# Ejecute la última función que implementó en la parte A\n",
    "# para calcular la solución numéricamente."
   ]
  }
 ],
 "metadata": {
  "kernelspec": {
   "display_name": "Python 3",
   "language": "python",
   "name": "python3"
  },
  "language_info": {
   "codemirror_mode": {
    "name": "ipython",
    "version": 3
   },
   "file_extension": ".py",
   "mimetype": "text/x-python",
   "name": "python",
   "nbconvert_exporter": "python",
   "pygments_lexer": "ipython3",
   "version": "3.7.7"
  }
 },
 "nbformat": 4,
 "nbformat_minor": 4
}
