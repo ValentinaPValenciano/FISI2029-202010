{
 "cells": [
  {
   "cell_type": "code",
   "execution_count": 1,
   "metadata": {},
   "outputs": [],
   "source": [
    "import numpy as np\n",
    "import matplotlib.pyplot as plt"
   ]
  },
  {
   "cell_type": "markdown",
   "metadata": {},
   "source": [
    "Una función periódica en el intervalo $(-\\pi, \\pi)$ puede ser descrita por la serie:\n",
    "\n",
    "$$ f(x) = a_0 + \\sum_{n=1}^\\infty \\left( a_n \\cos(nx)  + b_n\\sin(nx) \\right)$$\n",
    "\n",
    "O por la suma parcial\n",
    "\n",
    "$$ s(x) = a_0 + \\sum_{n=1}^N \\left( a_n \\cos(nx)  + b_n\\sin(nx) \\right)$$"
   ]
  },
  {
   "cell_type": "markdown",
   "metadata": {},
   "source": [
    "# Ejercicio 1\n",
    "\n",
    "El archivo \"coeficientes.csv\" tiene 1000 coeficientes $a_n$ y $b_n$ de la serie de Fourier de una función.\n",
    "\n",
    "## a\n",
    "Grafique los coeficientes ($a_n$ vs $n$ y $b_n$ vs $n$). ¿Hasta cuál $n$ son relevantes?\n",
    "\n",
    "## b\n",
    "Usando el intervalo $x \\in (-2 \\pi, 2\\pi)$ Grafique las primeras 50 sumas parciales en 50 archivos tipo png distintos que tengan un nombre consecutivo apropiado para poder crear un gif\n",
    "\n",
    "## c\n",
    "Genere un gif con los 50 gráficos del punto anterior. Active el entorno \"fisi2028\" de CONDA y luego use el programa \"convert\" de ImageMagick\n",
    "\n",
    "    conda activate fisi2028\n",
    "    convert -delay 20 input_files*.png movie.gif\n"
   ]
  },
  {
   "cell_type": "markdown",
   "metadata": {},
   "source": [
    "# Ejercicio 2\n",
    "\n",
    "Estos coeficientes se pueden calcular como:\n",
    "\n",
    "$$ a_n = \\frac{1}{\\pi} \\int_{-\\pi}^{\\pi} f(x) \\cos(nx) dx$$\n",
    "\n",
    "y \n",
    "\n",
    "$$ b_n = \\frac{1}{\\pi} \\int_{-\\pi}^{\\pi} f(x) \\sin(nx) dx$$\n",
    "\n",
    "## a\n",
    "Calcule los 50 primeros coeficientes para la función\n",
    "\n",
    "\n",
    "$$f(x) = \\begin{cases} -2   &: &-\\pi \\leq x \\leq -2 \\\\ \n",
    "                       x    &: &-2 < x \\leq 0 \\\\ \n",
    "                       5x   &: &0 < x \\leq 1 \\\\\n",
    "                       10-5x       &: &1 < x \\leq 2 \\\\\n",
    "                       0    &: &2 < x \\leq \\pi \\end{cases} $$\n",
    "                       \n",
    "## b \n",
    "Grafique la función y la suma parcial con los primeros 50 coeficientes."
   ]
  },
  {
   "cell_type": "code",
   "execution_count": 2,
   "metadata": {},
   "outputs": [],
   "source": [
    "coefficients = np.loadtxt(\"coeficientes.csv\")"
   ]
  },
  {
   "cell_type": "code",
   "execution_count": 3,
   "metadata": {},
   "outputs": [
    {
     "data": {
      "text/plain": [
       "array([[ 0.        ,  0.        ],\n",
       "       [ 0.        ,  0.63661977],\n",
       "       [ 0.        , -0.31830989],\n",
       "       ...,\n",
       "       [ 0.        ,  0.00063854],\n",
       "       [ 0.        , -0.0006379 ],\n",
       "       [ 0.        ,  0.00063726]])"
      ]
     },
     "execution_count": 3,
     "metadata": {},
     "output_type": "execute_result"
    }
   ],
   "source": [
    "coefficients"
   ]
  },
  {
   "cell_type": "code",
   "execution_count": 7,
   "metadata": {},
   "outputs": [
    {
     "data": {
      "image/png": "[encoded data removed]",
      "text/plain": [
       "<Figure size 432x288 with 1 Axes>"
      ]
     },
     "metadata": {
      "needs_background": "light"
     },
     "output_type": "display_data"
    }
   ],
   "source": [
    "plt.plot( np.abs(coefficients[:,1]) )\n",
    "plt.yscale(\"log\")"
   ]
  },
  {
   "cell_type": "code",
   "execution_count": null,
   "metadata": {},
   "outputs": [],
   "source": []
  }
 ],
 "metadata": {
  "kernelspec": {
   "display_name": "Python [conda env:fisi2028]",
   "language": "python",
   "name": "conda-env-fisi2028-py"
  },
  "language_info": {
   "codemirror_mode": {
    "name": "ipython",
    "version": 3
   },
   "file_extension": ".py",
   "mimetype": "text/x-python",
   "name": "python",
   "nbconvert_exporter": "python",
   "pygments_lexer": "ipython3",
   "version": "3.8.1"
  }
 },
 "nbformat": 4,
 "nbformat_minor": 4
}
