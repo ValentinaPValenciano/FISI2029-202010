{
 "cells": [
  {
   "cell_type": "code",
   "execution_count": 1,
   "metadata": {},
   "outputs": [],
   "source": [
    "import numpy as np\n",
    "import matplotlib.pyplot as plt"
   ]
  },
  {
   "cell_type": "markdown",
   "metadata": {},
   "source": [
    "# Parte 1"
   ]
  },
  {
   "cell_type": "code",
   "execution_count": 2,
   "metadata": {},
   "outputs": [
    {
     "name": "stdout",
     "output_type": "stream",
     "text": [
      "--2020-03-06 12:03:12--  https://raw.githubusercontent.com/jpmallarino/FISI2029-202010/master/semana7/coeficientes.csv\n",
      "Resolving raw.githubusercontent.com (raw.githubusercontent.com)... 151.101.52.133\n",
      "Connecting to raw.githubusercontent.com (raw.githubusercontent.com)|151.101.52.133|:443... connected.\n",
      "HTTP request sent, awaiting response... 200 OK\n",
      "Length: 50499 (49K) [text/plain]\n",
      "Saving to: ‘coeficientes.csv.2’\n",
      "\n",
      "100%[======================================>] 50,499      --.-K/s   in 0s      \n",
      "\n",
      "2020-03-06 12:03:12 (114 MB/s) - ‘coeficientes.csv.2’ saved [50499/50499]\n",
      "\n"
     ]
    }
   ],
   "source": [
    "!wget https://raw.githubusercontent.com/jpmallarino/FISI2029-202010/master/semana7/coeficientes.csv\n",
    "\n",
    "coeficientes = np.loadtxt(\"coeficientes.csv\")\n",
    "\n",
    "an_array = coeficientes[:,0]  # columna 0\n",
    "bn_array = coeficientes[:,1]  # columna 1"
   ]
  },
  {
   "cell_type": "code",
   "execution_count": 3,
   "metadata": {},
   "outputs": [],
   "source": [
    "def suma_parcial( x_linspace, an_array, bn_array, N):\n",
    "    s = np.zeros_like(x_linspace)\n",
    "    for n in range(N):\n",
    "        s += an_array[n] * np.cos( n * x_linspace) + \\\n",
    "             bn_array[n] * np.sin( n * x_linspace) \n",
    "    return s"
   ]
  },
  {
   "cell_type": "code",
   "execution_count": 4,
   "metadata": {},
   "outputs": [],
   "source": [
    "for N in range(100):\n",
    "    x_graph = np.linspace(-2*np.pi, 2*np.pi, 400)\n",
    "    y_graph = suma_parcial(x_graph, an_array, bn_array, N)\n",
    "    fig = plt.figure()\n",
    "    plt.plot(x_graph, y_graph, label=\"N=\"+str(N) )\n",
    "    plt.ylim(-1.2, 1.2)\n",
    "    plt.grid()\n",
    "    plt.legend(loc=0)\n",
    "    filename = \"mi_nombre_de_archivo_%02d\"%N + \".png\"\n",
    "    plt.savefig(filename)\n",
    "    plt.close()"
   ]
  },
  {
   "cell_type": "code",
   "execution_count": null,
   "metadata": {},
   "outputs": [],
   "source": [
    "!convert mi_nombre_de_archivo_* -loop 0 -delay 20 movie.gif"
   ]
  },
  {
   "cell_type": "markdown",
   "metadata": {},
   "source": [
    "# Parte 2"
   ]
  },
  {
   "cell_type": "code",
   "execution_count": null,
   "metadata": {},
   "outputs": [],
   "source": []
  }
 ],
 "metadata": {
  "kernelspec": {
   "display_name": "Python [conda env:fisi2028]",
   "language": "python",
   "name": "conda-env-fisi2028-py"
  },
  "language_info": {
   "codemirror_mode": {
    "name": "ipython",
    "version": 3
   },
   "file_extension": ".py",
   "mimetype": "text/x-python",
   "name": "python",
   "nbconvert_exporter": "python",
   "pygments_lexer": "ipython3",
   "version": "3.8.1"
  }
 },
 "nbformat": 4,
 "nbformat_minor": 4
}
